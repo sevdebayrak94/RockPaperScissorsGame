{
 "cells": [
  {
   "cell_type": "code",
   "execution_count": 114,
   "id": "0fe7bedc-4a7c-4e92-96cf-465954843e2d",
   "metadata": {},
   "outputs": [],
   "source": [
    "# Rock\n",
    "rock = '''\n",
    "    _______\n",
    "---'   ____)\n",
    "      (_____)\n",
    "      (_____)\n",
    "      (____)\n",
    "---.__(___)\n",
    "'''\n",
    "\n",
    "# Paper\n",
    "paper = '''\n",
    "     _______\n",
    "---'    ____)____\n",
    "           ______)\n",
    "          _______)\n",
    "         _______)\n",
    "---.__________)\n",
    "\n",
    "'''\n",
    "# Scissors\n",
    "scissors = '''\n",
    "    _______\n",
    "---'   ____)____\n",
    "          ______)\n",
    "       __________)\n",
    "      (____)\n",
    "---.__(___)\n",
    "\n",
    "'''\n",
    "\n",
    "\n",
    "\n",
    "\n",
    "\n",
    "\n"
   ]
  },
  {
   "cell_type": "code",
   "execution_count": 124,
   "id": "d3d565ca-612d-4da5-a367-60a68a4203dc",
   "metadata": {},
   "outputs": [
    {
     "name": "stdin",
     "output_type": "stream",
     "text": [
      "What do you chooce ? Type 0 for Rock, 1 for Paper or 2 for Scissors.  1\n"
     ]
    },
    {
     "name": "stdout",
     "output_type": "stream",
     "text": [
      "User Chose 1\n",
      "Computer Chose 2\n",
      "\n",
      "    _______\n",
      "---'   ____)____\n",
      "          ______)\n",
      "       __________)\n",
      "      (____)\n",
      "---.__(___)\n",
      "\n",
      "\n",
      "You Lose!\n"
     ]
    }
   ],
   "source": [
    "import random\n",
    "game_images = [rock, paper, scissors]\n",
    "user_choice = int(input(\"What do you chooce ? Type 0 for Rock, 1 for Paper or 2 for Scissors. \"))\n",
    "print(f\"User Chose {user_choice}\")\n",
    "computer_choice = random.randint(0,2)\n",
    "print(f\"Computer Chose {computer_choice}\")\n",
    "print(game_images[computer_choice])\n",
    "\n",
    "if user_choice >= 3 or user_choice <0 :\n",
    "    print(\"You typed an invalid number, You lose!\")\n",
    "elif user_choice == 0 and computer_choice == 2:\n",
    "    print(\"You Win!\")\n",
    "elif computer_choice == 0 and user_choice == 2:\n",
    "    print(\"You Lose!\")\n",
    "elif computer_choice > user_choice:\n",
    "    print(\"You Lose!\")\n",
    "elif user_choice > computer_choice :\n",
    "    print(\"You Win!\")\n",
    "elif computer_choice == user_choice:\n",
    "    print(\"It's a draw!\")"
   ]
  },
  {
   "cell_type": "code",
   "execution_count": null,
   "id": "4ca3d7ae-6112-4c71-877f-9b6c5c315bd3",
   "metadata": {},
   "outputs": [],
   "source": []
  }
 ],
 "metadata": {
  "kernelspec": {
   "display_name": "Python 3 (ipykernel)",
   "language": "python",
   "name": "python3"
  },
  "language_info": {
   "codemirror_mode": {
    "name": "ipython",
    "version": 3
   },
   "file_extension": ".py",
   "mimetype": "text/x-python",
   "name": "python",
   "nbconvert_exporter": "python",
   "pygments_lexer": "ipython3",
   "version": "3.11.7"
  }
 },
 "nbformat": 4,
 "nbformat_minor": 5
}
